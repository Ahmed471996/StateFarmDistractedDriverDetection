{
  "nbformat": 4,
  "nbformat_minor": 0,
  "metadata": {
    "colab": {
      "name": "Jim_Trial.ipynb",
      "provenance": [],
      "collapsed_sections": [],
      "private_outputs": true
    },
    "kernelspec": {
      "name": "python3",
      "display_name": "Python 3"
    },
    "language_info": {
      "name": "python"
    },
    "accelerator": "GPU",
    "gpuClass": "standard"
  },
  "cells": [
    {
      "cell_type": "markdown",
      "source": [
        "## Importing Libraries"
      ],
      "metadata": {
        "id": "j40sjYzAIwiL"
      }
    },
    {
      "cell_type": "code",
      "source": [
        "!pip install split-folders"
      ],
      "metadata": {
        "id": "n6fUbGnUtsSf"
      },
      "execution_count": null,
      "outputs": []
    },
    {
      "cell_type": "code",
      "source": [
        "import os\n",
        "import numpy as np\n",
        "import matplotlib.pyplot as plt\n",
        "import cv2\n",
        "from google.colab import drive\n",
        "from IPython.display import display, Image\n",
        "import matplotlib.image as mpimg\n",
        "import tensorflow as tf\n",
        "import pandas as pd\n",
        "import matplotlib.pyplot as plt\n",
        "from keras.models import Sequential\n",
        "from keras.layers import Dense, Flatten\n",
        "from tensorflow.keras.utils import to_categorical, plot_model\n",
        "from tensorflow.keras.optimizers import SGD, Adam\n",
        "from keras.models import load_model\n",
        "from keras.preprocessing.image import ImageDataGenerator\n",
        "import splitfolders"
      ],
      "metadata": {
        "id": "bPSThpAkmd9d"
      },
      "execution_count": null,
      "outputs": []
    },
    {
      "cell_type": "markdown",
      "source": [
        "## Reading Data"
      ],
      "metadata": {
        "id": "OhL9YQMaIrws"
      }
    },
    {
      "cell_type": "code",
      "source": [
        "# Accessing My Google Drive\n",
        "drive.mount('/content/drive')"
      ],
      "metadata": {
        "id": "1fJ7pFtCCXm9"
      },
      "execution_count": null,
      "outputs": []
    },
    {
      "cell_type": "code",
      "source": [
        "# !unzip \"/content/drive/MyDrive/CV Project/train.zip\" -d \"/content/drive/MyDrive/CV Project/Train/\""
      ],
      "metadata": {
        "id": "5zbCfCcj-d7G"
      },
      "execution_count": null,
      "outputs": []
    },
    {
      "cell_type": "code",
      "source": [
        "path = '/content/drive/MyDrive/CV Project/Train/train/'\n",
        "out_path = '/content/drive/MyDrive/data'"
      ],
      "metadata": {
        "id": "pHZJSbkKmP2R"
      },
      "execution_count": null,
      "outputs": []
    },
    {
      "cell_type": "code",
      "source": [
        "# import splitfolders\n",
        "\n",
        "# splitfolders.ratio(path, output=out_path, seed=1337, ratio=(.8, 0.1,0.1), \n",
        "#                    group_prefix=None)"
      ],
      "metadata": {
        "id": "XeLMWCdnwp36"
      },
      "execution_count": null,
      "outputs": []
    },
    {
      "cell_type": "code",
      "source": [
        "TRAINING_DIR = '/content/drive/MyDrive/data/train'\n",
        "Validation_DIR = '/content/drive/MyDrive/data/val'\n",
        "Test_DIR = '/content/drive/MyDrive/data/test'"
      ],
      "metadata": {
        "id": "eciYnwA2uIwf"
      },
      "execution_count": null,
      "outputs": []
    },
    {
      "cell_type": "markdown",
      "source": [
        "## EDA"
      ],
      "metadata": {
        "id": "jrFYU2WyI7Ok"
      }
    },
    {
      "cell_type": "code",
      "source": [
        "os.listdir(path)"
      ],
      "metadata": {
        "id": "18LXKJpLCUWl"
      },
      "execution_count": null,
      "outputs": []
    },
    {
      "cell_type": "code",
      "source": [
        "# directory[0]"
      ],
      "metadata": {
        "id": "iN9Bey-nDB_-"
      },
      "execution_count": null,
      "outputs": []
    },
    {
      "cell_type": "code",
      "source": [
        "# for i, file in enumerate(os.listdir(path + directory)):\n",
        "#   print(i)"
      ],
      "metadata": {
        "id": "Eg4AS_s4DCCd"
      },
      "execution_count": null,
      "outputs": []
    },
    {
      "cell_type": "code",
      "source": [
        "activity_map = {'c0': 'Safe driving', \n",
        "                'c1': 'Texting - right', \n",
        "                'c2': 'Talking on the phone - right', \n",
        "                'c3': 'Texting - left', \n",
        "                'c4': 'Talking on the phone - left', \n",
        "                'c5': 'Operating the radio', \n",
        "                'c6': 'Drinking', \n",
        "                'c7': 'Reaching behind', \n",
        "                'c8': 'Hair and makeup', \n",
        "                'c9': 'Talking to passenger'}\n",
        "\n",
        "\n",
        "plt.figure(figsize = (12, 20))\n",
        "image_count = 1\n",
        "\n",
        "for directory in os.listdir(path):\n",
        "        for i, file in enumerate(os.listdir(path + directory)):\n",
        "            if i == 1:\n",
        "                break\n",
        "            else:\n",
        "                fig = plt.subplot(5, 2, image_count)\n",
        "                image_count += 1\n",
        "                image = mpimg.imread(path + directory + '/' + file)\n",
        "                plt.imshow(image)\n",
        "                plt.title(f\"{activity_map[directory]}----{image.shape}\")"
      ],
      "metadata": {
        "id": "5OkfpZAqmeAM"
      },
      "execution_count": null,
      "outputs": []
    },
    {
      "cell_type": "code",
      "source": [
        "data = pd.read_csv('/content/drive/MyDrive/CV Project/driver_imgs_list.csv')\n",
        "data"
      ],
      "metadata": {
        "id": "BpEobgR1meC8"
      },
      "execution_count": null,
      "outputs": []
    },
    {
      "cell_type": "code",
      "source": [
        "import plotly.express as px\n",
        "\n",
        "px.histogram(data, x=\"classname\", color=\"classname\", title=\"Number of images by categories \")"
      ],
      "metadata": {
        "id": "3riLnp5fmeFo"
      },
      "execution_count": null,
      "outputs": []
    },
    {
      "cell_type": "code",
      "source": [
        ""
      ],
      "metadata": {
        "id": "jESqnjPlmeIQ"
      },
      "execution_count": null,
      "outputs": []
    },
    {
      "cell_type": "code",
      "source": [
        ""
      ],
      "metadata": {
        "id": "3cQMaxlCmeK1"
      },
      "execution_count": null,
      "outputs": []
    },
    {
      "cell_type": "markdown",
      "source": [
        "## Baseline Dense layers model"
      ],
      "metadata": {
        "id": "96i08Qk9NIrO"
      }
    },
    {
      "cell_type": "code",
      "source": [
        ""
      ],
      "metadata": {
        "id": "UC8YUOHkNNKa"
      },
      "execution_count": null,
      "outputs": []
    },
    {
      "cell_type": "code",
      "source": [
        ""
      ],
      "metadata": {
        "id": "H6Nxpi4lNNx1"
      },
      "execution_count": null,
      "outputs": []
    },
    {
      "cell_type": "code",
      "source": [
        ""
      ],
      "metadata": {
        "id": "oY9iP179NN0M"
      },
      "execution_count": null,
      "outputs": []
    },
    {
      "cell_type": "code",
      "source": [
        ""
      ],
      "metadata": {
        "id": "oqoN0As3NN2t"
      },
      "execution_count": null,
      "outputs": []
    },
    {
      "cell_type": "markdown",
      "source": [
        "## Baseline CNN model"
      ],
      "metadata": {
        "id": "6ttrXCItNOEx"
      }
    },
    {
      "cell_type": "code",
      "source": [
        "batch_size = 64\n",
        "nb_epoch = 6"
      ],
      "metadata": {
        "id": "sipLmegCyPw5"
      },
      "execution_count": null,
      "outputs": []
    },
    {
      "cell_type": "code",
      "source": [
        "train_datagen = ImageDataGenerator(rescale=1./255,\n",
        "                                  # rotation_range=30,\n",
        "                                  # width_shift_range=0.2,\n",
        "                                  # height_shift_range=0.2,\n",
        "                                  # shear_range=0.2,\n",
        "                                  # zoom_range=0.2,\n",
        "                                  # horizontal_flip=True,\n",
        "                                  # fill_mode='nearest'\n",
        "                                   )\n",
        "\n",
        "\n",
        "train_generator = train_datagen.flow_from_directory(directory=TRAINING_DIR,\n",
        "                                                      batch_size=batch_size,\n",
        "                                                      class_mode='categorical',\n",
        "                                                      target_size=(480, 640))\n",
        "  \n",
        "validation_datagen = ImageDataGenerator(rescale=1./255)\n",
        "\n",
        "validation_generator = validation_datagen.flow_from_directory(directory=Validation_DIR,\n",
        "                                                              batch_size = batch_size,\n",
        "                                                              class_mode='categorical',\n",
        "                                                              target_size=(480, 640))"
      ],
      "metadata": {
        "id": "JRxXCwMv0EBX"
      },
      "execution_count": null,
      "outputs": []
    },
    {
      "cell_type": "code",
      "source": [
        "model = tf.keras.models.Sequential([tf.keras.layers.Conv2D(32, (3,3), activation='relu', input_shape=(480, 640, 3)),\n",
        "                                    tf.keras.layers.MaxPooling2D(2, 2),\n",
        "                                    \n",
        "                                    tf.keras.layers.Conv2D(64, (3,3), activation='relu'),\n",
        "                                    tf.keras.layers.MaxPooling2D(2,2),\n",
        "\n",
        "                                    tf.keras.layers.Conv2D(64, (3,3), activation='relu'),\n",
        "                                    tf.keras.layers.MaxPooling2D(2,2),\n",
        "                                    \n",
        "                                    tf.keras.layers.Conv2D(128, (5,5), activation='relu'),\n",
        "                                    tf.keras.layers.MaxPooling2D(2,2),\n",
        "                                    \n",
        "                                    tf.keras.layers.Conv2D(128, (3,3), activation='relu'),\n",
        "                                    tf.keras.layers.MaxPooling2D(2,2),\n",
        "\n",
        "                                    tf.keras.layers.Conv2D(256, (3,3), activation='relu'),\n",
        "                                    tf.keras.layers.MaxPooling2D(2,2),\n",
        "                                    \n",
        "                                    tf.keras.layers.Flatten(),\n",
        "                                    tf.keras.layers.Dense(128, activation='relu'),\n",
        "                                    tf.keras.layers.Dense(256, activation='relu'),\n",
        "                                    tf.keras.layers.Dense(10, activation='softmax')\n",
        "                                  ])"
      ],
      "metadata": {
        "id": "3yBFNe_WNRjl"
      },
      "execution_count": null,
      "outputs": []
    },
    {
      "cell_type": "code",
      "source": [
        "model.summary()"
      ],
      "metadata": {
        "id": "TNUGrQwZNSId"
      },
      "execution_count": null,
      "outputs": []
    },
    {
      "cell_type": "code",
      "source": [
        "model.compile(optimizer = 'adam',\n",
        "              loss = 'categorical_crossentropy',\n",
        "              metrics=['accuracy'])"
      ],
      "metadata": {
        "id": "u33klmB0NSK-"
      },
      "execution_count": null,
      "outputs": []
    },
    {
      "cell_type": "code",
      "source": [
        "history = model.fit(train_generator,\n",
        "                    epochs=nb_epoch,\n",
        "                    batch_size=batch_size,\n",
        "                    validation_data=validation_generator)"
      ],
      "metadata": {
        "id": "Q7_Y0zcIw8Ip"
      },
      "execution_count": null,
      "outputs": []
    },
    {
      "cell_type": "code",
      "source": [
        "test_datagen = ImageDataGenerator(rescale=1./255)\n",
        "\n",
        "test_generator = validation_datagen.flow_from_directory(directory=Test_DIR,\n",
        "                                                              batch_size = batch_size,\n",
        "                                                              class_mode='categorical',\n",
        "                                                              target_size=(480, 640))"
      ],
      "metadata": {
        "id": "Sv57VCSnHuxh"
      },
      "execution_count": null,
      "outputs": []
    },
    {
      "cell_type": "code",
      "source": [
        "score1 = model.evaluate(test_generator, verbose=1)\n",
        "print('Loss: ', score1[0])\n",
        "print('Accuracy: ', score1[1]*100, ' %')"
      ],
      "metadata": {
        "id": "d6_5i8nvJzOJ"
      },
      "execution_count": null,
      "outputs": []
    },
    {
      "cell_type": "code",
      "source": [
        "model.save('/content/drive/MyDrive/CV Project')"
      ],
      "metadata": {
        "id": "umCbzcA1w8LY"
      },
      "execution_count": null,
      "outputs": []
    },
    {
      "cell_type": "code",
      "source": [
        "model.save_weights('/content/drive/MyDrive/CV Project')"
      ],
      "metadata": {
        "id": "yAhnfkwXw8OI"
      },
      "execution_count": null,
      "outputs": []
    },
    {
      "cell_type": "markdown",
      "source": [
        "## Data augmentation"
      ],
      "metadata": {
        "id": "reTAJ57LNSOV"
      }
    },
    {
      "cell_type": "code",
      "source": [
        "model = load_model('/content/drive/MyDrive/CV Project')"
      ],
      "metadata": {
        "id": "vkaAeYJlrVCB"
      },
      "execution_count": null,
      "outputs": []
    },
    {
      "cell_type": "code",
      "source": [
        "train_datagen = ImageDataGenerator(rescale = 1.0/255, \n",
        "                                   shear_range = 0.2, \n",
        "                                   zoom_range = 0.2, \n",
        "                                   horizontal_flip = True, \n",
        "                                   validation_split = 0.2)\n",
        "\n",
        "train_generator = train_datagen.flow_from_directory(directory=TRAINING_DIR,\n",
        "                                                      batch_size=batch_size,\n",
        "                                                      class_mode='categorical',\n",
        "                                                      target_size=(480, 640))\n",
        "\n",
        "test_datagen = ImageDataGenerator(rescale=1.0/ 255)\n",
        "\n",
        "validation_generator = test_datagen.flow_from_directory(directory=Validation_DIR,\n",
        "                                                              batch_size = batch_size,\n",
        "                                                              class_mode='categorical',\n",
        "                                                              target_size=(480, 640))"
      ],
      "metadata": {
        "id": "Q075nFWvNSjd"
      },
      "execution_count": null,
      "outputs": []
    },
    {
      "cell_type": "code",
      "source": [
        "model.summary()"
      ],
      "metadata": {
        "id": "ZBquPyRkHyAi"
      },
      "execution_count": null,
      "outputs": []
    },
    {
      "cell_type": "code",
      "source": [
        "model.compile(optimizer = 'adam',\n",
        "              loss = 'categorical_crossentropy',\n",
        "              metrics=['accuracy'])"
      ],
      "metadata": {
        "id": "rCZuvtJyBZlW"
      },
      "execution_count": null,
      "outputs": []
    },
    {
      "cell_type": "code",
      "source": [
        "nb_train_samples = 17934\n",
        "nb_validation_samples = 2237"
      ],
      "metadata": {
        "id": "919d4iPNERjm"
      },
      "execution_count": null,
      "outputs": []
    },
    {
      "cell_type": "code",
      "source": [
        "history_v2 = model.fit(train_generator,\n",
        "                         steps_per_epoch = nb_train_samples // batch_size,\n",
        "                         epochs = nb_epoch, \n",
        "                         verbose = 1,\n",
        "                         validation_data = validation_generator,\n",
        "                         validation_steps = nb_validation_samples // batch_size)"
      ],
      "metadata": {
        "id": "lKUh9qe4BZn-"
      },
      "execution_count": null,
      "outputs": []
    },
    {
      "cell_type": "code",
      "source": [
        "model.save('/content/drive/MyDrive/CV Project/Model2')  "
      ],
      "metadata": {
        "id": "Pfo9CtecHmUv"
      },
      "execution_count": null,
      "outputs": []
    },
    {
      "cell_type": "markdown",
      "source": [
        "## Transfer Learning"
      ],
      "metadata": {
        "id": "iWKxJsWPNSuK"
      }
    },
    {
      "cell_type": "code",
      "source": [
        ""
      ],
      "metadata": {
        "id": "9KYIsbHnNbCW"
      },
      "execution_count": null,
      "outputs": []
    },
    {
      "cell_type": "code",
      "source": [
        ""
      ],
      "metadata": {
        "id": "aVRA9D6ZD4xV"
      },
      "execution_count": null,
      "outputs": []
    },
    {
      "cell_type": "code",
      "source": [
        ""
      ],
      "metadata": {
        "id": "B8QRuPleNbXO"
      },
      "execution_count": null,
      "outputs": []
    },
    {
      "cell_type": "markdown",
      "source": [
        "## CNN visualization"
      ],
      "metadata": {
        "id": "vp-GmqqtNbcF"
      }
    },
    {
      "cell_type": "code",
      "source": [
        ""
      ],
      "metadata": {
        "id": "t3Q7V0D3Nd0L"
      },
      "execution_count": null,
      "outputs": []
    },
    {
      "cell_type": "code",
      "source": [
        ""
      ],
      "metadata": {
        "id": "JfRSSIiPNeaV"
      },
      "execution_count": null,
      "outputs": []
    },
    {
      "cell_type": "code",
      "source": [
        ""
      ],
      "metadata": {
        "id": "nxydiXYcNecf"
      },
      "execution_count": null,
      "outputs": []
    }
  ]
}